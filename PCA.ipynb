{
  "nbformat": 4,
  "nbformat_minor": 0,
  "metadata": {
    "colab": {
      "provenance": [],
      "authorship_tag": "ABX9TyN1ZiL6nohC21qhEB/kLPcT",
      "include_colab_link": true
    },
    "kernelspec": {
      "name": "python3",
      "display_name": "Python 3"
    },
    "language_info": {
      "name": "python"
    }
  },
  "cells": [
    {
      "cell_type": "markdown",
      "metadata": {
        "id": "view-in-github",
        "colab_type": "text"
      },
      "source": [
        "<a href=\"https://colab.research.google.com/github/gargiisc/mlc/blob/main/Experiment_10.ipynb\" target=\"_parent\"><img src=\"https://colab.research.google.com/assets/colab-badge.svg\" alt=\"Open In Colab\"/></a>"
      ]
    },
    {
      "cell_type": "markdown",
      "source": [
        "**EXPERIMENT 10: Principal Component Analysis**\n",
        "\n"
      ],
      "metadata": {
        "id": "0LX8tdxKx0eu"
      }
    },
    {
      "cell_type": "markdown",
      "source": [
        "**Theory:** <br>\n",
        "As the number of features or dimensions in a dataset increases, the amount of data required to obtain a statistically significant result increases exponentially. This can lead to issues such as overfitting, increased computation time, and reduced accuracy of machine learning models this is known as the curse of dimensionality problems that arise while working with high-dimensional data.<br>\n",
        "\n",
        "As the number of dimensions increases, the number of possible combinations of features increases exponentially, which makes it computationally difficult to obtain a representative sample of the data. It becomes expensive to perform tasks such as clustering or classification because the algorithms need to process a much larger feature space, which increases computation time and complexity. Additionally, some machine learning algorithms can be sensitive to the number of dimensions, requiring more data to achieve the same level of accuracy as lower-dimensional data.<br>\n",
        "\n",
        "To address the curse of dimensionality, Feature engineering techniques are used which include feature selection and feature extraction. Dimensionality reduction is a type of feature extraction technique that aims to reduce the number of input features while retaining as much of the original information as possible.<br>\n",
        "\n",
        "In this article, we will discuss one of the most popular dimensionality reduction techniques i.e. Principal Component Analysis(PCA).\n",
        "<br><br>\n",
        "\n",
        "\n",
        "\n",
        "\n",
        "**Step 1: Import the necessary libraries**"
      ],
      "metadata": {
        "id": "c-w54w6jyBHX"
      }
    },
    {
      "cell_type": "code",
      "execution_count": 17,
      "metadata": {
        "id": "hJbIZddyrzjM"
      },
      "outputs": [],
      "source": [
        "import numpy as np\n",
        "from numpy import linalg as la"
      ]
    },
    {
      "cell_type": "markdown",
      "source": [
        "Step 2: Give the input dataset."
      ],
      "metadata": {
        "id": "CnfLqssOyKmM"
      }
    },
    {
      "cell_type": "code",
      "source": [
        "x = np.array([2.5, 0.5, 2.2, 1.9, 3.1, 2.3, 2, 1, 1.5, 1.1])\n",
        "y = np.array([2.4, 0.7, 2.9, 2.2, 3, 2.7, 1.6, 1.1, 1.6, 0.9])\n",
        "data = np.array([x, y])\n",
        "print(x)\n",
        "print(y)\n",
        "print(data)"
      ],
      "metadata": {
        "colab": {
          "base_uri": "https://localhost:8080/"
        },
        "id": "MwAqmmZMsIPk",
        "outputId": "7fc72be7-dc1d-441d-b7b0-f843d784d783"
      },
      "execution_count": 2,
      "outputs": [
        {
          "output_type": "stream",
          "name": "stdout",
          "text": [
            "[2.5 0.5 2.2 1.9 3.1 2.3 2.  1.  1.5 1.1]\n",
            "[2.4 0.7 2.9 2.2 3.  2.7 1.6 1.1 1.6 0.9]\n",
            "[[2.5 0.5 2.2 1.9 3.1 2.3 2.  1.  1.5 1.1]\n",
            " [2.4 0.7 2.9 2.2 3.  2.7 1.6 1.1 1.6 0.9]]\n"
          ]
        }
      ]
    },
    {
      "cell_type": "code",
      "source": [
        "xMean = np.mean(x)\n",
        "yMean = np.mean(y)\n",
        "print(xMean)\n",
        "print(yMean)"
      ],
      "metadata": {
        "colab": {
          "base_uri": "https://localhost:8080/"
        },
        "id": "oLXi3GwdtyIw",
        "outputId": "72130193-a7a7-4f35-a220-b01502f038ab"
      },
      "execution_count": 3,
      "outputs": [
        {
          "output_type": "stream",
          "name": "stdout",
          "text": [
            "1.81\n",
            "1.9100000000000001\n"
          ]
        }
      ]
    },
    {
      "cell_type": "code",
      "source": [
        "data.shape"
      ],
      "metadata": {
        "colab": {
          "base_uri": "https://localhost:8080/"
        },
        "id": "l0VSOHW0t3Zk",
        "outputId": "c9827f7f-6f5e-4f62-9ce8-1e8d6939649d"
      },
      "execution_count": 4,
      "outputs": [
        {
          "output_type": "execute_result",
          "data": {
            "text/plain": [
              "(2, 10)"
            ]
          },
          "metadata": {},
          "execution_count": 4
        }
      ]
    },
    {
      "cell_type": "markdown",
      "source": [
        "**Step 3: Compute the mean adjusted values by subtracting each point from its mean.**"
      ],
      "metadata": {
        "id": "1yFh8HigyQqP"
      }
    },
    {
      "cell_type": "code",
      "source": [
        "meanAdjusted = np.zeros((2, 10))\n",
        "for i in range(len(data[0])):\n",
        "    meanAdjusted[0][i] = data[0][i] - xMean\n",
        "for i in range(len(data[1])):\n",
        "    meanAdjusted[1][i] = data[1][i] - yMean\n",
        "print(meanAdjusted)"
      ],
      "metadata": {
        "colab": {
          "base_uri": "https://localhost:8080/"
        },
        "id": "xVkPJkTUt6Ba",
        "outputId": "cb9acb0a-4b0d-4d30-90f9-54f2ea68d5ca"
      },
      "execution_count": 5,
      "outputs": [
        {
          "output_type": "stream",
          "name": "stdout",
          "text": [
            "[[ 0.69 -1.31  0.39  0.09  1.29  0.49  0.19 -0.81 -0.31 -0.71]\n",
            " [ 0.49 -1.21  0.99  0.29  1.09  0.79 -0.31 -0.81 -0.31 -1.01]]\n"
          ]
        }
      ]
    },
    {
      "cell_type": "markdown",
      "source": [
        "**Step 4: Compute the covariance matrix of the mean adjusted data**"
      ],
      "metadata": {
        "id": "tUHiNiJLydJI"
      }
    },
    {
      "cell_type": "code",
      "source": [
        "cov_mat = np.cov(meanAdjusted)\n",
        "print(cov_mat)"
      ],
      "metadata": {
        "colab": {
          "base_uri": "https://localhost:8080/"
        },
        "id": "Ri6TRYdSuLJp",
        "outputId": "badcdcef-064d-44b2-a1ae-409a8afdacba"
      },
      "execution_count": 6,
      "outputs": [
        {
          "output_type": "stream",
          "name": "stdout",
          "text": [
            "[[0.61655556 0.61544444]\n",
            " [0.61544444 0.71655556]]\n"
          ]
        }
      ]
    },
    {
      "cell_type": "markdown",
      "source": [
        "**Step 5: Compute the eigen values and eigen vectors.**"
      ],
      "metadata": {
        "id": "We6D3IGvyqiw"
      }
    },
    {
      "cell_type": "code",
      "source": [
        "eig_vals, eig_vecs = np.linalg.eig(cov_mat)\n",
        "print('Eigenvectors \\n%s' %eig_vecs)\n",
        "print('\\nEigenvalues \\n%s' %eig_vals)"
      ],
      "metadata": {
        "colab": {
          "base_uri": "https://localhost:8080/"
        },
        "id": "b9aX-wFMuT6x",
        "outputId": "36d09565-f5c2-4970-ec0e-3b4167385cc4"
      },
      "execution_count": 7,
      "outputs": [
        {
          "output_type": "stream",
          "name": "stdout",
          "text": [
            "Eigenvectors \n",
            "[[-0.73517866 -0.6778734 ]\n",
            " [ 0.6778734  -0.73517866]]\n",
            "\n",
            "Eigenvalues \n",
            "[0.0490834  1.28402771]\n"
          ]
        }
      ]
    },
    {
      "cell_type": "markdown",
      "source": [
        "**Step 6: Arrange the eigenvalues in descending order.**"
      ],
      "metadata": {
        "id": "t0BGwtLUzs9y"
      }
    },
    {
      "cell_type": "code",
      "source": [
        "eig_pairs = [(np.abs(eig_vals[i]), eig_vecs[:,i]) for i in range(len(eig_vals))]\n",
        "eig_pairs.sort()\n",
        "eig_pairs.reverse()\n",
        "print('Eigenvalues in descending order:')\n",
        "for i in eig_pairs:\n",
        "    print(i[0])"
      ],
      "metadata": {
        "colab": {
          "base_uri": "https://localhost:8080/"
        },
        "id": "uAusyyEJucXv",
        "outputId": "452df6de-ee1e-4bc5-9c3c-001f9cb93ec9"
      },
      "execution_count": 8,
      "outputs": [
        {
          "output_type": "stream",
          "name": "stdout",
          "text": [
            "Eigenvalues in descending order:\n",
            "1.2840277121727839\n",
            "0.04908339893832736\n"
          ]
        }
      ]
    },
    {
      "cell_type": "code",
      "source": [
        "print('Eigenvectors in descending order: ')\n",
        "for i in eig_pairs:\n",
        "  print(i[1])"
      ],
      "metadata": {
        "colab": {
          "base_uri": "https://localhost:8080/"
        },
        "id": "Q0z6ZphLuoq2",
        "outputId": "7b7318df-8c94-4ff8-ac03-fd91f0e76c32"
      },
      "execution_count": 10,
      "outputs": [
        {
          "output_type": "stream",
          "name": "stdout",
          "text": [
            "Eigenvectors in descending order: \n",
            "[-0.6778734  -0.73517866]\n",
            "[-0.73517866  0.6778734 ]\n"
          ]
        }
      ]
    },
    {
      "cell_type": "code",
      "source": [
        "eig_pairs [0][1]"
      ],
      "metadata": {
        "colab": {
          "base_uri": "https://localhost:8080/"
        },
        "id": "0cie51F3vwH9",
        "outputId": "77236d03-8c7c-4deb-9e5e-319732a5519b"
      },
      "execution_count": 11,
      "outputs": [
        {
          "output_type": "execute_result",
          "data": {
            "text/plain": [
              "array([-0.6778734 , -0.73517866])"
            ]
          },
          "metadata": {},
          "execution_count": 11
        }
      ]
    },
    {
      "cell_type": "markdown",
      "source": [
        "**Step 7: Retaining only those eigenvalues having maximum values, tranform data and display.**"
      ],
      "metadata": {
        "id": "AG6JeCqA0K3g"
      }
    },
    {
      "cell_type": "code",
      "source": [
        "transformedData1 = np.matmul (meanAdjusted.T, eig_pairs[0][1])\n",
        "transformedData2 = np.matmul (meanAdjusted.T, eig_pairs[1][1])\n",
        "print(transformedData1)\n",
        "print(transformedData2)"
      ],
      "metadata": {
        "colab": {
          "base_uri": "https://localhost:8080/"
        },
        "id": "redytwivwM8I",
        "outputId": "b295a205-6222-418e-ce56-6732953edd18"
      },
      "execution_count": 12,
      "outputs": [
        {
          "output_type": "stream",
          "name": "stdout",
          "text": [
            "[-0.82797019  1.77758033 -0.99219749 -0.27421042 -1.67580142 -0.9129491\n",
            "  0.09910944  1.14457216  0.43804614  1.22382056]\n",
            "[-0.17511531  0.14285723  0.38437499  0.13041721 -0.20949846  0.17528244\n",
            " -0.3498247   0.04641726  0.01776463 -0.16267529]\n"
          ]
        }
      ]
    },
    {
      "cell_type": "code",
      "source": [
        "transformedData = [transformedData1, transformedData2]\n",
        "transformedData = np.transpose(transformedData)\n",
        "print(transformedData)\n"
      ],
      "metadata": {
        "colab": {
          "base_uri": "https://localhost:8080/"
        },
        "id": "7-oBqKagwgO6",
        "outputId": "7b135618-9fa9-4d28-b984-d967545a46ea"
      },
      "execution_count": 13,
      "outputs": [
        {
          "output_type": "stream",
          "name": "stdout",
          "text": [
            "[[-0.82797019 -0.17511531]\n",
            " [ 1.77758033  0.14285723]\n",
            " [-0.99219749  0.38437499]\n",
            " [-0.27421042  0.13041721]\n",
            " [-1.67580142 -0.20949846]\n",
            " [-0.9129491   0.17528244]\n",
            " [ 0.09910944 -0.3498247 ]\n",
            " [ 1.14457216  0.04641726]\n",
            " [ 0.43804614  0.01776463]\n",
            " [ 1.22382056 -0.16267529]]\n"
          ]
        }
      ]
    },
    {
      "cell_type": "code",
      "source": [
        "matrix_w = np.hstack((eig_pairs[0][1].reshape(2,1), eig_pairs[1][1].reshape(2,1)))\n",
        "print('Matrix W:\\n', matrix_w)"
      ],
      "metadata": {
        "colab": {
          "base_uri": "https://localhost:8080/"
        },
        "id": "L6z9Mwj8xPab",
        "outputId": "430dcae3-17ae-498b-d18f-3a9852597427"
      },
      "execution_count": 14,
      "outputs": [
        {
          "output_type": "stream",
          "name": "stdout",
          "text": [
            "Matrix W:\n",
            " [[-0.6778734  -0.73517866]\n",
            " [-0.73517866  0.6778734 ]]\n"
          ]
        }
      ]
    },
    {
      "cell_type": "markdown",
      "source": [
        "**Step 8: Reconstruct and transform the original data.**"
      ],
      "metadata": {
        "id": "Mln-arwY0WRl"
      }
    },
    {
      "cell_type": "code",
      "source": [
        "originalData = np.matmul(transformedData, matrix_w)\n",
        "originalData[:][:] = originalData[:][:] + np.array([xMean, yMean])\n",
        "print(originalData)"
      ],
      "metadata": {
        "colab": {
          "base_uri": "https://localhost:8080/"
        },
        "id": "YGWcDSkCxYu9",
        "outputId": "0909eead-77d8-40c3-d122-15826057ef6b"
      },
      "execution_count": 16,
      "outputs": [
        {
          "output_type": "stream",
          "name": "stdout",
          "text": [
            "[[2.5 2.4]\n",
            " [0.5 0.7]\n",
            " [2.2 2.9]\n",
            " [1.9 2.2]\n",
            " [3.1 3. ]\n",
            " [2.3 2.7]\n",
            " [2.  1.6]\n",
            " [1.  1.1]\n",
            " [1.5 1.6]\n",
            " [1.1 0.9]]\n"
          ]
        }
      ]
    },
    {
      "cell_type": "code",
      "source": [],
      "metadata": {
        "id": "BIZ8Ref_xngp"
      },
      "execution_count": null,
      "outputs": []
    }
  ]
}
